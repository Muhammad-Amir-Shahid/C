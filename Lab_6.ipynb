{
  "nbformat": 4,
  "nbformat_minor": 0,
  "metadata": {
    "colab": {
      "provenance": [],
      "authorship_tag": "ABX9TyM4jv0jrq3pT1nb6Ap1mvX1",
      "include_colab_link": true
    },
    "kernelspec": {
      "name": "python3",
      "display_name": "Python 3"
    },
    "language_info": {
      "name": "python"
    }
  },
  "cells": [
    {
      "cell_type": "markdown",
      "metadata": {
        "id": "view-in-github",
        "colab_type": "text"
      },
      "source": [
        "<a href=\"https://colab.research.google.com/github/Muhammad-Amir-Shahid/C/blob/master/Lab_6.ipynb\" target=\"_parent\"><img src=\"https://colab.research.google.com/assets/colab-badge.svg\" alt=\"Open In Colab\"/></a>"
      ]
    },
    {
      "cell_type": "code",
      "execution_count": 1,
      "metadata": {
        "colab": {
          "base_uri": "https://localhost:8080/"
        },
        "id": "BPnAUugltsvN",
        "outputId": "5ac61aed-6a81-4148-e938-ab87a6715aa1"
      },
      "outputs": [
        {
          "output_type": "stream",
          "name": "stdout",
          "text": [
            "Centroids: [[5.5 1. ]\n",
            " [5.5 4. ]]\n",
            "Cluster assignments: [0 1 0 0 1 0]\n"
          ]
        }
      ],
      "source": [
        "import numpy as np\n",
        "\n",
        "# Step 1: Define the K-Means algorithm\n",
        "def k_means(X, K, max_iters=100):\n",
        "    # Step 2: Initialize centroids randomly\n",
        "    np.random.seed(42)\n",
        "    centroids = X[np.random.choice(X.shape[0], K, replace=False)]\n",
        "\n",
        "    # Step 3: Create a function to calculate the Euclidean distance\n",
        "    def euclidean_distance(a, b):\n",
        "        return np.linalg.norm(a - b)\n",
        "\n",
        "    # Step 4: Create a function to assign points to the nearest centroid\n",
        "    def assign_clusters(X, centroids):\n",
        "        clusters = []\n",
        "        for point in X:\n",
        "            distances = [euclidean_distance(point, centroid) for centroid in centroids]\n",
        "            cluster = np.argmin(distances)  # The closest centroid\n",
        "            clusters.append(cluster)\n",
        "        return np.array(clusters)\n",
        "\n",
        "    # Step 5: Create a function to update centroids\n",
        "    def update_centroids(X, clusters, K):\n",
        "        new_centroids = np.zeros((K, X.shape[1]))\n",
        "        for k in range(K):\n",
        "            new_centroids[k] = np.mean(X[clusters == k], axis=0)\n",
        "        return new_centroids\n",
        "\n",
        "    # Step 6: K-Means algorithm main loop\n",
        "    for _ in range(max_iters):\n",
        "        clusters = assign_clusters(X, centroids)\n",
        "        new_centroids = update_centroids(X, clusters, K)\n",
        "\n",
        "        # Step 7: Check for convergence (if centroids don't change)\n",
        "        if np.all(centroids == new_centroids):\n",
        "            break\n",
        "        centroids = new_centroids\n",
        "\n",
        "    return centroids, clusters\n",
        "\n",
        "# Step 8: Example usage\n",
        "if __name__ == \"__main__\":\n",
        "    # Example data (2D)\n",
        "    X = np.array([[1, 2], [1, 4], [1, 0], [10, 2], [10, 4], [10, 0]])\n",
        "\n",
        "    # Set K = 2 (2 clusters)\n",
        "    K = 2\n",
        "\n",
        "    # Run K-Means\n",
        "    centroids, clusters = k_means(X, K)\n",
        "\n",
        "    print(\"Centroids:\", centroids)\n",
        "    print(\"Cluster assignments:\", clusters)\n"
      ]
    },
    {
      "cell_type": "code",
      "source": [
        "import numpy as np\n",
        "import matplotlib.pyplot as plt\n",
        "\n",
        "# Step 1: Initialize K random centroids\n",
        "def initialize_centroids(X, K):\n",
        "    np.random.seed(42)\n",
        "    random_indices = np.random.choice(X.shape[0], K, replace=False)\n",
        "    centroids = X[random_indices]\n",
        "    return centroids\n",
        "\n",
        "# Step 2: Assign each data point to the nearest centroid\n",
        "def assign_to_centroids(X, centroids):\n",
        "    clusters = []\n",
        "    for point in X:\n",
        "        distances = np.linalg.norm(point - centroids, axis=1)  # Calculate distance to each centroid\n",
        "        closest_centroid = np.argmin(distances)  # Index of the closest centroid\n",
        "        clusters.append(closest_centroid)\n",
        "    return np.array(clusters)\n",
        "\n",
        "# Step 3: Recalculate the centroids\n",
        "def recalculate_centroids(X, clusters, K):\n",
        "    centroids = np.zeros((K, X.shape[1]))\n",
        "    for k in range(K):\n",
        "        centroids[k] = np.mean(X[clusters == k], axis=0)  # Mean of points in the cluster\n",
        "    return centroids\n",
        "\n",
        "# Step 4: K-Means algorithm main function\n",
        "def k_means(X, K, max_iters=100):\n",
        "    centroids = initialize_centroids(X, K)\n",
        "\n",
        "    for _ in range(max_iters):\n",
        "        # Step 2: Assign data points to the nearest centroid\n",
        "        clusters = assign_to_centroids(X, centroids)\n",
        "\n",
        "        # Step 3: Recalculate centroids\n",
        "        new_centroids = recalculate_centroids(X, clusters, K)\n",
        "\n",
        "        # Step 4: Check for convergence (if centroids don't change)\n",
        "        if np.all(centroids == new_centroids):\n",
        "            break\n",
        "        centroids = new_centroids\n",
        "\n",
        "    return centroids, clusters\n",
        "\n",
        "if __name__ == \"__main__\":\n",
        "\n",
        "    X = np.array([[1, 2], [2, 3], [3, 3], [6, 5], [7, 8], [8, 6], [10, 10], [12, 9], [13, 11]])\n",
        "\n",
        "    K = 3\n",
        "\n",
        "    centroids, clusters = k_means(X, K)\n",
        "\n",
        "    # Output the results\n",
        "    print(\"Final Centroids:\", centroids)\n",
        "    print(\"Cluster Assignments:\", clusters)\n",
        "\n",
        "    # Plotting the data and centroids\n",
        "    plt.scatter(X[:, 0], X[:, 1], c=clusters, cmap='viridis', marker='o', s=100, edgecolors='k')\n",
        "    plt.scatter(centroids[:, 0], centroids[:, 1], c='red', marker='x', s=200, label='Centroids')\n",
        "    plt.title('K-Means Clustering')\n",
        "    plt.xlabel('Feature 1')\n",
        "    plt.ylabel('Feature 2')\n",
        "    plt.legend()\n",
        "    plt.show()\n"
      ],
      "metadata": {
        "colab": {
          "base_uri": "https://localhost:8080/",
          "height": 545
        },
        "id": "WVlEtE7cvRat",
        "outputId": "747555b5-4d8a-4087-d4da-9150bb41756f"
      },
      "execution_count": 3,
      "outputs": [
        {
          "output_type": "stream",
          "name": "stdout",
          "text": [
            "Final Centroids: [[11.66666667 10.        ]\n",
            " [ 2.          2.66666667]\n",
            " [ 7.          6.33333333]]\n",
            "Cluster Assignments: [1 1 1 2 2 2 0 0 0]\n"
          ]
        },
        {
          "output_type": "display_data",
          "data": {
            "text/plain": [
              "<Figure size 640x480 with 1 Axes>"
            ],
            "image/png": "[encoded data removed]"
          },
          "metadata": {}
        }
      ]
    }
  ]
}